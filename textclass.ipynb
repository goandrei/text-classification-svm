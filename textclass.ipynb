{
  "nbformat": 4,
  "nbformat_minor": 0,
  "metadata": {
    "colab": {
      "name": "Untitled4(1).ipynb",
      "version": "0.3.2",
      "provenance": [],
      "collapsed_sections": [
        "IPsZjEnLYbax",
        "PyuoBNhQcgYs",
        "KTDnyBJ9cKYX",
        "ECM2lSqhi2o0",
        "kCmXsEfdcvW3",
        "BH4zsouBqbCy",
        "v2XEoNfFdJtS",
        "eraY21fDos36",
        "5U3QxKrb80zF",
        "PrwGQujkPb6i",
        "e4EW-uXrHwCF",
        "UZ7uhQ03UcEc",
        "0Vhv99Z-htY_",
        "7ffnX5o7rHoY"
      ]
    },
    "kernelspec": {
      "name": "python3",
      "display_name": "Python 3"
    }
  },
  "cells": [
    {
      "metadata": {
        "id": "PyuoBNhQcgYs",
        "colab_type": "text"
      },
      "cell_type": "markdown",
      "source": [
        "#Importing modules"
      ]
    },
    {
      "metadata": {
        "id": "nuMaMNYFcj8e",
        "colab_type": "code",
        "colab": {}
      },
      "cell_type": "code",
      "source": [
        "from google.colab import drive\n",
        "\n",
        "import pandas as pd\n",
        "import numpy as np\n",
        "\n",
        "from sklearn.feature_extraction.text import TfidfVectorizer\n",
        "from sklearn import model_selection\n",
        "from sklearn.svm import SVC\n",
        "from sklearn.preprocessing import StandardScaler\n",
        "\n",
        "from sklearn.model_selection import GridSearchCV\n",
        "\n",
        "from sklearn.metrics import accuracy_score\n",
        "from sklearn.metrics import classification_report\n",
        "from sklearn.metrics import silhouette_score, adjusted_rand_score,homogeneity_score, completeness_score\n",
        "from sklearn.metrics import make_scorer\n",
        "\n",
        "from sklearn.cluster import DBSCAN, KMeans, AgglomerativeClustering\n",
        "\n",
        "from sklearn.decomposition import TruncatedSVD\n",
        "\n",
        "import matplotlib.pyplot as plt"
      ],
      "execution_count": 0,
      "outputs": []
    },
    {
      "metadata": {
        "id": "KTDnyBJ9cKYX",
        "colab_type": "text"
      },
      "cell_type": "markdown",
      "source": [
        "#Loading the dataset"
      ]
    },
    {
      "metadata": {
        "id": "gQM_nj37Jbb2",
        "colab_type": "code",
        "colab": {}
      },
      "cell_type": "code",
      "source": [
        "drive.mount('/content/drive')\n",
        "data_set = pd.read_csv('drive/My Drive/train.csv')\n",
        "\n",
        "#delete useless column\n",
        "del data_set['Unnamed: 0']"
      ],
      "execution_count": 0,
      "outputs": []
    },
    {
      "metadata": {
        "id": "ECM2lSqhi2o0",
        "colab_type": "text"
      },
      "cell_type": "markdown",
      "source": [
        "#Dataset analysis"
      ]
    },
    {
      "metadata": {
        "id": "B_K1iQqym7y7",
        "colab_type": "text"
      },
      "cell_type": "markdown",
      "source": [
        "We have a dataset with 20 columns;on each column there are 20 documents written by the same author.\n",
        "The documents have 500.000 words(with a few exceptions where the size goes under 100.000)."
      ]
    },
    {
      "metadata": {
        "colab_type": "code",
        "id": "EKCD814elOeh",
        "colab": {}
      },
      "cell_type": "code",
      "source": [
        "print('Dataset shape : ', data_set.shape)\n",
        "\n",
        "columns = list(data_set.head(0))\n",
        "print('Dataset column heads : ', columns)\n",
        "\n",
        "for column in columns:\n",
        "  print('Author', column, ' : ')\n",
        "  for doc in data_set[column]:\n",
        "    print(len(doc))\n"
      ],
      "execution_count": 0,
      "outputs": []
    },
    {
      "metadata": {
        "id": "kCmXsEfdcvW3",
        "colab_type": "text"
      },
      "cell_type": "markdown",
      "source": [
        "#Dataset preparation"
      ]
    },
    {
      "metadata": {
        "id": "Lfe6grj7RCac",
        "colab_type": "code",
        "colab": {}
      },
      "cell_type": "code",
      "source": [
        "#get the authors\n",
        "columnHead = data_set.columns.values\n",
        "\n",
        "#build an array with all the documents\n",
        "results = np.array(400)\n",
        "for author in columnHead:\n",
        "    results = np.append(results, list(data_set[author]))\n",
        "\n",
        "results = np.delete(results, 0)\n",
        "\n",
        "#build an array with the labels\n",
        "labels = np.array(400)\n",
        "for i in range(20):\n",
        "    for j in range(20):\n",
        "        labels = np.append(labels, i)\n",
        "\n",
        "labels = np.delete(labels, 0)"
      ],
      "execution_count": 0,
      "outputs": []
    },
    {
      "metadata": {
        "id": "6olS7r_HqhHo",
        "colab_type": "text"
      },
      "cell_type": "markdown",
      "source": [
        "#Text classification"
      ]
    },
    {
      "metadata": {
        "id": "BH4zsouBqbCy",
        "colab_type": "text"
      },
      "cell_type": "markdown",
      "source": [
        "##Split the data"
      ]
    },
    {
      "metadata": {
        "id": "wxrSqzcMqcnm",
        "colab_type": "code",
        "colab": {}
      },
      "cell_type": "code",
      "source": [
        "#split the data set\n",
        "x_train, x_test, y_train, y_test = model_selection.train_test_split(results, labels, test_size=0.3)"
      ],
      "execution_count": 0,
      "outputs": []
    },
    {
      "metadata": {
        "id": "v2XEoNfFdJtS",
        "colab_type": "text"
      },
      "cell_type": "markdown",
      "source": [
        "##Transform the dataset"
      ]
    },
    {
      "metadata": {
        "id": "0xoAqZTENGkF",
        "colab_type": "text"
      },
      "cell_type": "markdown",
      "source": [
        "Set the min_df and max_df so we will keep only the words which can help us describing a class."
      ]
    },
    {
      "metadata": {
        "id": "OLX_s9uydQSK",
        "colab_type": "code",
        "colab": {}
      },
      "cell_type": "code",
      "source": [
        "#get the tfidf scores\n",
        "tf_idf = TfidfVectorizer(stop_words='english', ngram_range=(1,2), min_df=0.4, max_df=0.8)\n",
        "\n",
        "tfidf_train = tf_idf.fit_transform(x_train)\n",
        "tfidf_test = tf_idf.transform(x_test)"
      ],
      "execution_count": 0,
      "outputs": []
    },
    {
      "metadata": {
        "id": "eraY21fDos36",
        "colab_type": "text"
      },
      "cell_type": "markdown",
      "source": [
        "##Tuning the parameters"
      ]
    },
    {
      "metadata": {
        "id": "M6POTVAwV9j1",
        "colab_type": "code",
        "colab": {}
      },
      "cell_type": "code",
      "source": [
        "def grid_search(trainer, parameters, x_train, y_train, x_test, y_test):\n",
        "  \n",
        "  gs = GridSearchCV(trainer, parameters, n_jobs=-1, cv=10)\n",
        "  gs.fit(x_train, y_train)\n",
        "  \n",
        "  print('Best parameters : ')\n",
        "  print(gs.best_params_)\n",
        "\n",
        "  print('Results : ')\n",
        "  means = gs.cv_results_['mean_test_score']\n",
        "  stds  = gs.cv_results_['std_test_score']\n",
        "  for mean, std, params in zip(means, stds, gs.cv_results_['params']):\n",
        "      print(\"%0.4f (+/-%0.04f) for %r\" % (mean, std * 2, params))\n",
        "      \n",
        "  print()\n",
        "      \n",
        "  #the authors are represented by their indexes in the authors array(columnsHead)\n",
        "  print('The results on the test set')\n",
        "  y_pred = gs.predict(x_test)\n",
        "  print(classification_report(y_test, y_pred))\n",
        "\n",
        "  return means"
      ],
      "execution_count": 0,
      "outputs": []
    },
    {
      "metadata": {
        "id": "YOL7OPuvovOu",
        "colab_type": "code",
        "outputId": "21570d67-2bf9-4d18-d573-7cbd0c53463f",
        "colab": {
          "base_uri": "https://localhost:8080/",
          "height": 1267
        }
      },
      "cell_type": "code",
      "source": [
        "parameters = [\n",
        "              {'kernel': ['rbf', 'sigmoid', 'poly'], 'gamma': [1e-3, 1e-4],'C': [1, 10, 50, 100, 500, 1000]},\n",
        "              {'kernel': ['linear'], 'C': [1, 10, 50, 100, 500, 1000]}\n",
        "             ]\n",
        "\n",
        "means = grid_search(SVC(), parameters, tfidf_train, y_train, tfidf_test, y_test)\n"
      ],
      "execution_count": 0,
      "outputs": [
        {
          "output_type": "stream",
          "text": [
            "Best parameters : \n",
            "{'C': 1000, 'gamma': 0.001, 'kernel': 'rbf'}\n",
            "Results : \n",
            "0.0714 (+/-0.0966) for {'C': 1, 'gamma': 0.001, 'kernel': 'rbf'}\n",
            "0.0714 (+/-0.0966) for {'C': 1, 'gamma': 0.001, 'kernel': 'sigmoid'}\n",
            "0.0714 (+/-0.0966) for {'C': 1, 'gamma': 0.001, 'kernel': 'poly'}\n",
            "0.0714 (+/-0.0966) for {'C': 1, 'gamma': 0.0001, 'kernel': 'rbf'}\n",
            "0.0714 (+/-0.0966) for {'C': 1, 'gamma': 0.0001, 'kernel': 'sigmoid'}\n",
            "0.0714 (+/-0.0966) for {'C': 1, 'gamma': 0.0001, 'kernel': 'poly'}\n",
            "0.0714 (+/-0.0966) for {'C': 10, 'gamma': 0.001, 'kernel': 'rbf'}\n",
            "0.0714 (+/-0.0966) for {'C': 10, 'gamma': 0.001, 'kernel': 'sigmoid'}\n",
            "0.0714 (+/-0.0966) for {'C': 10, 'gamma': 0.001, 'kernel': 'poly'}\n",
            "0.0714 (+/-0.0966) for {'C': 10, 'gamma': 0.0001, 'kernel': 'rbf'}\n",
            "0.0714 (+/-0.0966) for {'C': 10, 'gamma': 0.0001, 'kernel': 'sigmoid'}\n",
            "0.0714 (+/-0.0966) for {'C': 10, 'gamma': 0.0001, 'kernel': 'poly'}\n",
            "0.1393 (+/-0.1250) for {'C': 50, 'gamma': 0.001, 'kernel': 'rbf'}\n",
            "0.0714 (+/-0.0966) for {'C': 50, 'gamma': 0.001, 'kernel': 'sigmoid'}\n",
            "0.0714 (+/-0.0966) for {'C': 50, 'gamma': 0.001, 'kernel': 'poly'}\n",
            "0.0714 (+/-0.0966) for {'C': 50, 'gamma': 0.0001, 'kernel': 'rbf'}\n",
            "0.0714 (+/-0.0966) for {'C': 50, 'gamma': 0.0001, 'kernel': 'sigmoid'}\n",
            "0.0714 (+/-0.0966) for {'C': 50, 'gamma': 0.0001, 'kernel': 'poly'}\n",
            "0.6286 (+/-0.1183) for {'C': 100, 'gamma': 0.001, 'kernel': 'rbf'}\n",
            "0.1393 (+/-0.1250) for {'C': 100, 'gamma': 0.001, 'kernel': 'sigmoid'}\n",
            "0.0714 (+/-0.0966) for {'C': 100, 'gamma': 0.001, 'kernel': 'poly'}\n",
            "0.0714 (+/-0.0966) for {'C': 100, 'gamma': 0.0001, 'kernel': 'rbf'}\n",
            "0.0714 (+/-0.0966) for {'C': 100, 'gamma': 0.0001, 'kernel': 'sigmoid'}\n",
            "0.0714 (+/-0.0966) for {'C': 100, 'gamma': 0.0001, 'kernel': 'poly'}\n",
            "0.9607 (+/-0.0906) for {'C': 500, 'gamma': 0.001, 'kernel': 'rbf'}\n",
            "0.9536 (+/-0.0687) for {'C': 500, 'gamma': 0.001, 'kernel': 'sigmoid'}\n",
            "0.0714 (+/-0.0966) for {'C': 500, 'gamma': 0.001, 'kernel': 'poly'}\n",
            "0.1393 (+/-0.1250) for {'C': 500, 'gamma': 0.0001, 'kernel': 'rbf'}\n",
            "0.0714 (+/-0.0966) for {'C': 500, 'gamma': 0.0001, 'kernel': 'sigmoid'}\n",
            "0.0714 (+/-0.0966) for {'C': 500, 'gamma': 0.0001, 'kernel': 'poly'}\n",
            "0.9643 (+/-0.0845) for {'C': 1000, 'gamma': 0.001, 'kernel': 'rbf'}\n",
            "0.9607 (+/-0.0906) for {'C': 1000, 'gamma': 0.001, 'kernel': 'sigmoid'}\n",
            "0.0714 (+/-0.0966) for {'C': 1000, 'gamma': 0.001, 'kernel': 'poly'}\n",
            "0.6286 (+/-0.1183) for {'C': 1000, 'gamma': 0.0001, 'kernel': 'rbf'}\n",
            "0.1393 (+/-0.1250) for {'C': 1000, 'gamma': 0.0001, 'kernel': 'sigmoid'}\n",
            "0.0714 (+/-0.0966) for {'C': 1000, 'gamma': 0.0001, 'kernel': 'poly'}\n",
            "0.9607 (+/-0.0906) for {'C': 1, 'kernel': 'linear'}\n",
            "0.9643 (+/-0.0845) for {'C': 10, 'kernel': 'linear'}\n",
            "0.9643 (+/-0.0845) for {'C': 50, 'kernel': 'linear'}\n",
            "0.9643 (+/-0.0845) for {'C': 100, 'kernel': 'linear'}\n",
            "0.9643 (+/-0.0845) for {'C': 500, 'kernel': 'linear'}\n",
            "0.9643 (+/-0.0845) for {'C': 1000, 'kernel': 'linear'}\n",
            "\n",
            "The results on the test set\n",
            "             precision    recall  f1-score   support\n",
            "\n",
            "          0       1.00      1.00      1.00         5\n",
            "          1       1.00      1.00      1.00         9\n",
            "          2       1.00      1.00      1.00         5\n",
            "          3       1.00      1.00      1.00         7\n",
            "          4       1.00      0.75      0.86         4\n",
            "          5       1.00      1.00      1.00         5\n",
            "          6       1.00      1.00      1.00         3\n",
            "          7       0.80      1.00      0.89         4\n",
            "          8       1.00      1.00      1.00         5\n",
            "          9       1.00      1.00      1.00         5\n",
            "         10       1.00      1.00      1.00         5\n",
            "         11       1.00      1.00      1.00         6\n",
            "         12       1.00      1.00      1.00         5\n",
            "         13       1.00      1.00      1.00         9\n",
            "         14       0.91      1.00      0.95        10\n",
            "         15       1.00      1.00      1.00         8\n",
            "         16       1.00      1.00      1.00         4\n",
            "         17       1.00      1.00      1.00         6\n",
            "         18       1.00      1.00      1.00         8\n",
            "         19       1.00      0.86      0.92         7\n",
            "\n",
            "avg / total       0.99      0.98      0.98       120\n",
            "\n"
          ],
          "name": "stdout"
        }
      ]
    },
    {
      "metadata": {
        "id": "dWJK4dhg6Bel",
        "colab_type": "text"
      },
      "cell_type": "markdown",
      "source": [
        "It seems like linear and rbf are the best choices.Let's see their behaviours while variating the C parameter."
      ]
    },
    {
      "metadata": {
        "id": "-qdaKnMR6KRK",
        "colab_type": "code",
        "outputId": "ee18a4b6-80c4-4274-8fff-3ecb54c8e239",
        "colab": {
          "base_uri": "https://localhost:8080/",
          "height": 2645
        }
      },
      "cell_type": "code",
      "source": [
        "parameters = [\n",
        "              {'kernel': ['linear'], 'C': np.linspace(1, 1000, num=25)}\n",
        "             ]\n",
        "\n",
        "means = grid_search(SVC(), parameters, tfidf_train, y_train, tfidf_test, y_test)\n",
        "\n",
        "plt.title('Linear kernel performance while variating C')\n",
        "plt.xlabel('C')\n",
        "plt.ylabel('Perfomance')\n",
        "plt.plot(parameters[0]['C'], means, 'o-')\n",
        "\n",
        "\n",
        "plt.show()\n",
        "\n",
        "parameters = [\n",
        "              {'kernel': ['rbf'], 'C': np.linspace(1, 1000, num=25)}\n",
        "             ]\n",
        "\n",
        "means = grid_search(SVC(), parameters, tfidf_train, y_train, tfidf_test, y_test)\n",
        "\n",
        "plt.title('Rbf kernel performance while variating C')\n",
        "plt.xlabel('C')\n",
        "plt.ylabel('Perfomance')\n",
        "plt.plot(parameters[0]['C'], means, 'o-')\n",
        "\n",
        "\n",
        "plt.show()"
      ],
      "execution_count": 0,
      "outputs": [
        {
          "output_type": "stream",
          "text": [
            "Best parameters : \n",
            "{'C': 42.625, 'kernel': 'linear'}\n",
            "Results : \n",
            "0.9607 (+/-0.0906) for {'C': 1.0, 'kernel': 'linear'}\n",
            "0.9643 (+/-0.0845) for {'C': 42.625, 'kernel': 'linear'}\n",
            "0.9643 (+/-0.0845) for {'C': 84.25, 'kernel': 'linear'}\n",
            "0.9643 (+/-0.0845) for {'C': 125.875, 'kernel': 'linear'}\n",
            "0.9643 (+/-0.0845) for {'C': 167.5, 'kernel': 'linear'}\n",
            "0.9643 (+/-0.0845) for {'C': 209.125, 'kernel': 'linear'}\n",
            "0.9643 (+/-0.0845) for {'C': 250.75, 'kernel': 'linear'}\n",
            "0.9643 (+/-0.0845) for {'C': 292.375, 'kernel': 'linear'}\n",
            "0.9643 (+/-0.0845) for {'C': 334.0, 'kernel': 'linear'}\n",
            "0.9643 (+/-0.0845) for {'C': 375.625, 'kernel': 'linear'}\n",
            "0.9643 (+/-0.0845) for {'C': 417.25, 'kernel': 'linear'}\n",
            "0.9643 (+/-0.0845) for {'C': 458.875, 'kernel': 'linear'}\n",
            "0.9643 (+/-0.0845) for {'C': 500.5, 'kernel': 'linear'}\n",
            "0.9643 (+/-0.0845) for {'C': 542.125, 'kernel': 'linear'}\n",
            "0.9643 (+/-0.0845) for {'C': 583.75, 'kernel': 'linear'}\n",
            "0.9643 (+/-0.0845) for {'C': 625.375, 'kernel': 'linear'}\n",
            "0.9643 (+/-0.0845) for {'C': 667.0, 'kernel': 'linear'}\n",
            "0.9643 (+/-0.0845) for {'C': 708.625, 'kernel': 'linear'}\n",
            "0.9643 (+/-0.0845) for {'C': 750.25, 'kernel': 'linear'}\n",
            "0.9643 (+/-0.0845) for {'C': 791.875, 'kernel': 'linear'}\n",
            "0.9643 (+/-0.0845) for {'C': 833.5, 'kernel': 'linear'}\n",
            "0.9643 (+/-0.0845) for {'C': 875.125, 'kernel': 'linear'}\n",
            "0.9643 (+/-0.0845) for {'C': 916.75, 'kernel': 'linear'}\n",
            "0.9643 (+/-0.0845) for {'C': 958.375, 'kernel': 'linear'}\n",
            "0.9643 (+/-0.0845) for {'C': 1000.0, 'kernel': 'linear'}\n",
            "\n",
            "The results on the test set\n",
            "             precision    recall  f1-score   support\n",
            "\n",
            "          0       1.00      1.00      1.00         5\n",
            "          1       1.00      1.00      1.00         9\n",
            "          2       1.00      1.00      1.00         5\n",
            "          3       1.00      1.00      1.00         7\n",
            "          4       1.00      0.75      0.86         4\n",
            "          5       1.00      1.00      1.00         5\n",
            "          6       1.00      1.00      1.00         3\n",
            "          7       0.80      1.00      0.89         4\n",
            "          8       1.00      1.00      1.00         5\n",
            "          9       1.00      1.00      1.00         5\n",
            "         10       1.00      1.00      1.00         5\n",
            "         11       1.00      1.00      1.00         6\n",
            "         12       1.00      1.00      1.00         5\n",
            "         13       1.00      1.00      1.00         9\n",
            "         14       0.91      1.00      0.95        10\n",
            "         15       1.00      1.00      1.00         8\n",
            "         16       1.00      1.00      1.00         4\n",
            "         17       1.00      1.00      1.00         6\n",
            "         18       1.00      1.00      1.00         8\n",
            "         19       1.00      0.86      0.92         7\n",
            "\n",
            "avg / total       0.99      0.98      0.98       120\n",
            "\n"
          ],
          "name": "stdout"
        },
        {
          "output_type": "display_data",
          "data": {
            "image/png": "[encoded data removed]",
            "text/plain": [
              "<matplotlib.figure.Figure at 0x7f64f27c6f60>"
            ]
          },
          "metadata": {
            "tags": []
          }
        },
        {
          "output_type": "stream",
          "text": [
            "Best parameters : \n",
            "{'C': 1000.0, 'kernel': 'rbf'}\n",
            "Results : \n",
            "0.0714 (+/-0.0966) for {'C': 1.0, 'kernel': 'rbf'}\n",
            "0.0714 (+/-0.0966) for {'C': 42.625, 'kernel': 'rbf'}\n",
            "0.0714 (+/-0.0966) for {'C': 84.25, 'kernel': 'rbf'}\n",
            "0.0714 (+/-0.0966) for {'C': 125.875, 'kernel': 'rbf'}\n",
            "0.0714 (+/-0.0966) for {'C': 167.5, 'kernel': 'rbf'}\n",
            "0.1286 (+/-0.1290) for {'C': 209.125, 'kernel': 'rbf'}\n",
            "0.2429 (+/-0.2023) for {'C': 250.75, 'kernel': 'rbf'}\n",
            "0.3179 (+/-0.2090) for {'C': 292.375, 'kernel': 'rbf'}\n",
            "0.4357 (+/-0.1656) for {'C': 334.0, 'kernel': 'rbf'}\n",
            "0.5429 (+/-0.1611) for {'C': 375.625, 'kernel': 'rbf'}\n",
            "0.6214 (+/-0.1125) for {'C': 417.25, 'kernel': 'rbf'}\n",
            "0.6571 (+/-0.1154) for {'C': 458.875, 'kernel': 'rbf'}\n",
            "0.6964 (+/-0.0893) for {'C': 500.5, 'kernel': 'rbf'}\n",
            "0.7250 (+/-0.1018) for {'C': 542.125, 'kernel': 'rbf'}\n",
            "0.7464 (+/-0.1237) for {'C': 583.75, 'kernel': 'rbf'}\n",
            "0.8107 (+/-0.1398) for {'C': 625.375, 'kernel': 'rbf'}\n",
            "0.8393 (+/-0.1223) for {'C': 667.0, 'kernel': 'rbf'}\n",
            "0.8679 (+/-0.1230) for {'C': 708.625, 'kernel': 'rbf'}\n",
            "0.8964 (+/-0.1098) for {'C': 750.25, 'kernel': 'rbf'}\n",
            "0.9036 (+/-0.1219) for {'C': 791.875, 'kernel': 'rbf'}\n",
            "0.9179 (+/-0.1037) for {'C': 833.5, 'kernel': 'rbf'}\n",
            "0.9250 (+/-0.1092) for {'C': 875.125, 'kernel': 'rbf'}\n",
            "0.9357 (+/-0.1010) for {'C': 916.75, 'kernel': 'rbf'}\n",
            "0.9429 (+/-0.0973) for {'C': 958.375, 'kernel': 'rbf'}\n",
            "0.9464 (+/-0.0949) for {'C': 1000.0, 'kernel': 'rbf'}\n",
            "\n",
            "The results on the test set\n",
            "             precision    recall  f1-score   support\n",
            "\n",
            "          0       1.00      1.00      1.00         5\n",
            "          1       1.00      1.00      1.00         9\n",
            "          2       1.00      1.00      1.00         5\n",
            "          3       1.00      1.00      1.00         7\n",
            "          4       1.00      0.75      0.86         4\n",
            "          5       1.00      1.00      1.00         5\n",
            "          6       1.00      1.00      1.00         3\n",
            "          7       0.80      1.00      0.89         4\n",
            "          8       1.00      1.00      1.00         5\n",
            "          9       1.00      1.00      1.00         5\n",
            "         10       0.71      1.00      0.83         5\n",
            "         11       1.00      1.00      1.00         6\n",
            "         12       1.00      1.00      1.00         5\n",
            "         13       1.00      0.89      0.94         9\n",
            "         14       1.00      0.80      0.89        10\n",
            "         15       1.00      1.00      1.00         8\n",
            "         16       1.00      1.00      1.00         4\n",
            "         17       0.86      1.00      0.92         6\n",
            "         18       1.00      1.00      1.00         8\n",
            "         19       1.00      1.00      1.00         7\n",
            "\n",
            "avg / total       0.97      0.97      0.97       120\n",
            "\n"
          ],
          "name": "stdout"
        },
        {
          "output_type": "display_data",
          "data": {
            "image/png": "[encoded data removed]",
            "text/plain": [
              "<matplotlib.figure.Figure at 0x7f652bc6fcf8>"
            ]
          },
          "metadata": {
            "tags": []
          }
        }
      ]
    },
    {
      "metadata": {
        "id": "RkTbgDBhVZRo",
        "colab_type": "code",
        "colab": {}
      },
      "cell_type": "code",
      "source": [
        "def evaluate_model_svc(model_name, x_train, y_train, x_test, y_test, param_k, param_c, param_gamma = 0):\n",
        "    model = SVC(kernel = param_k, C = param_c)\n",
        "    if(param_gamma > 0):\n",
        "      model.gamma = param_gamma\n",
        "      \n",
        "    model.fit(x_train, y_train)\n",
        "    \n",
        "    prediction = model.predict(x_test)\n",
        "    accuracy = accuracy_score(y_test, prediction)\n",
        "    \n",
        "    print((str)(model_name), ' score : ', accuracy)\n",
        "    print(classification_report(y_test, prediction))\n",
        "    print()"
      ],
      "execution_count": 0,
      "outputs": []
    },
    {
      "metadata": {
        "id": "5U3QxKrb80zF",
        "colab_type": "text"
      },
      "cell_type": "markdown",
      "source": [
        "##Linear kernel:bigger the C,smaller the performance"
      ]
    },
    {
      "metadata": {
        "id": "4FElZTQK85RH",
        "colab_type": "code",
        "outputId": "6f3e9a0a-b2a2-4191-b8b9-e21ef0187a28",
        "colab": {
          "base_uri": "https://localhost:8080/",
          "height": 486
        }
      },
      "cell_type": "code",
      "source": [
        "evaluate_model_svc('Linear kernel', tfidf_train, y_train, tfidf_test, y_test, 'linear', 20, 1e-3)"
      ],
      "execution_count": 0,
      "outputs": [
        {
          "output_type": "stream",
          "text": [
            "Linear kernel  score :  0.9833333333333333\n",
            "             precision    recall  f1-score   support\n",
            "\n",
            "          0       1.00      1.00      1.00         5\n",
            "          1       1.00      1.00      1.00         9\n",
            "          2       1.00      1.00      1.00         5\n",
            "          3       1.00      1.00      1.00         7\n",
            "          4       1.00      0.75      0.86         4\n",
            "          5       1.00      1.00      1.00         5\n",
            "          6       1.00      1.00      1.00         3\n",
            "          7       0.80      1.00      0.89         4\n",
            "          8       1.00      1.00      1.00         5\n",
            "          9       1.00      1.00      1.00         5\n",
            "         10       1.00      1.00      1.00         5\n",
            "         11       1.00      1.00      1.00         6\n",
            "         12       1.00      1.00      1.00         5\n",
            "         13       1.00      1.00      1.00         9\n",
            "         14       0.91      1.00      0.95        10\n",
            "         15       1.00      1.00      1.00         8\n",
            "         16       1.00      1.00      1.00         4\n",
            "         17       1.00      1.00      1.00         6\n",
            "         18       1.00      1.00      1.00         8\n",
            "         19       1.00      0.86      0.92         7\n",
            "\n",
            "avg / total       0.99      0.98      0.98       120\n",
            "\n",
            "\n"
          ],
          "name": "stdout"
        }
      ]
    },
    {
      "metadata": {
        "id": "PrwGQujkPb6i",
        "colab_type": "text"
      },
      "cell_type": "markdown",
      "source": [
        "## Rbf kernel:bigger the C,bigger the performance"
      ]
    },
    {
      "metadata": {
        "id": "68f6yyCMPbP7",
        "colab_type": "code",
        "outputId": "5aba13c3-1b97-4d3b-9be7-5d2c7953382d",
        "colab": {
          "base_uri": "https://localhost:8080/",
          "height": 486
        }
      },
      "cell_type": "code",
      "source": [
        "evaluate_model_svc('Rbf kernel', tfidf_train, y_train, tfidf_test, y_test, 'rbf', 1000, 1e-3)"
      ],
      "execution_count": 0,
      "outputs": [
        {
          "output_type": "stream",
          "text": [
            "Rbf kernel  score :  0.9833333333333333\n",
            "             precision    recall  f1-score   support\n",
            "\n",
            "          0       1.00      1.00      1.00         5\n",
            "          1       1.00      1.00      1.00         9\n",
            "          2       1.00      1.00      1.00         5\n",
            "          3       1.00      1.00      1.00         7\n",
            "          4       1.00      0.75      0.86         4\n",
            "          5       1.00      1.00      1.00         5\n",
            "          6       1.00      1.00      1.00         3\n",
            "          7       0.80      1.00      0.89         4\n",
            "          8       1.00      1.00      1.00         5\n",
            "          9       1.00      1.00      1.00         5\n",
            "         10       1.00      1.00      1.00         5\n",
            "         11       1.00      1.00      1.00         6\n",
            "         12       1.00      1.00      1.00         5\n",
            "         13       1.00      1.00      1.00         9\n",
            "         14       0.91      1.00      0.95        10\n",
            "         15       1.00      1.00      1.00         8\n",
            "         16       1.00      1.00      1.00         4\n",
            "         17       1.00      1.00      1.00         6\n",
            "         18       1.00      1.00      1.00         8\n",
            "         19       1.00      0.86      0.92         7\n",
            "\n",
            "avg / total       0.99      0.98      0.98       120\n",
            "\n",
            "\n"
          ],
          "name": "stdout"
        }
      ]
    },
    {
      "metadata": {
        "id": "nyT1oDtyzU6i",
        "colab_type": "text"
      },
      "cell_type": "markdown",
      "source": [
        "The perfomance is ~ 98%"
      ]
    },
    {
      "metadata": {
        "id": "e4EW-uXrHwCF",
        "colab_type": "text"
      },
      "cell_type": "markdown",
      "source": [
        "##PCA"
      ]
    },
    {
      "metadata": {
        "id": "O0rN5CHDNDHC",
        "colab_type": "text"
      },
      "cell_type": "markdown",
      "source": [
        "Use TruncatedSVD instead of PCA to avoid centring data(couldn't be done due to sparsity).We notice that if the number of features is decreased the model's performance is going down."
      ]
    },
    {
      "metadata": {
        "id": "8vS_upAhIA1c",
        "colab_type": "code",
        "outputId": "803f88b5-63c8-47c8-bc62-fe9bb9370448",
        "colab": {
          "base_uri": "https://localhost:8080/",
          "height": 365
        }
      },
      "cell_type": "code",
      "source": [
        "pca_prec = np.array(10, np.float64)\n",
        "\n",
        "for i in range(10):\n",
        "  svd = TruncatedSVD(n_components=i+1, n_iter=7, random_state=42)\n",
        "\n",
        "  principal_comp_train = pd.DataFrame(data = svd.fit_transform(tfidf_train))\n",
        "  principal_comp_test  = pd.DataFrame(data = svd.transform(tfidf_test))\n",
        "  \n",
        "  model = SVC(kernel = 'linear', C = 20)\n",
        "  model.fit(principal_comp_train, y_train)\n",
        "\n",
        "  prediction = model.predict(principal_comp_test)\n",
        "  accuracy = accuracy_score(y_test, prediction)\n",
        "  \n",
        "  pca_prec = np.append(pca_prec, accuracy)\n",
        "\n",
        "plt.ylim(top = 1, bottom = 0)\n",
        "plt.xlim(right = 14)\n",
        "plt.xlabel('No of components + 2')\n",
        "plt.ylabel('Performance')\n",
        "plt.plot(np.linspace(1,12,num=11), pca_prec)\n",
        "plt.show()"
      ],
      "execution_count": 0,
      "outputs": [
        {
          "output_type": "display_data",
          "data": {
            "image/png": "[encoded data removed]",
            "text/plain": [
              "<matplotlib.figure.Figure at 0x7f792e00f320>"
            ]
          },
          "metadata": {
            "tags": []
          }
        }
      ]
    }
  ]
}